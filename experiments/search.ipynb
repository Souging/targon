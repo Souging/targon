{
 "cells": [
  {
   "cell_type": "markdown",
   "metadata": {},
   "source": [
    "# Search"
   ]
  },
  {
   "cell_type": "code",
   "execution_count": 27,
   "metadata": {},
   "outputs": [],
   "source": [
    "import weaviate\n",
    "from ruia import Item, Spider, TextField, AttrField, Request"
   ]
  },
  {
   "cell_type": "code",
   "execution_count": 25,
   "metadata": {},
   "outputs": [],
   "source": [
    "client = weaviate.Client(\"http://us-central-02.db.sybil.com:8080\")  # Replace the URL with that of your Weaviate instance\n",
    "initial_link = \"https://wikipedia.org\"\n"
   ]
  },
  {
   "cell_type": "markdown",
   "metadata": {},
   "source": [
    "## spider"
   ]
  },
  {
   "cell_type": "code",
   "execution_count": 26,
   "metadata": {},
   "outputs": [],
   "source": [
    "class HackerNewsItem(Item):\n",
    "    target_item = TextField(css_select=\"tr.athing\")\n",
    "    title = TextField(css_select=\"a.storylink\")\n",
    "    url = AttrField(css_select=\"a.storylink\", attr=\"href\")"
   ]
  },
  {
   "cell_type": "code",
   "execution_count": null,
   "metadata": {},
   "outputs": [],
   "source": [
    "class HackerNewsSpider(Spider):\n",
    "    request_config = {\"RETRIES\": 3, \"DELAY\": 0, \"TIMEOUT\": 20}\n",
    "    concurrency = 3\n",
    "    start_urls = [\"https://news.ycombinator.com\"]\n",
    "\n",
    "    async def parse(self, response):\n",
    "        urls = [\n",
    "            \"https://news.ycombinator.com/news?p=1\",\n",
    "            \"https://news.ycombinator.com/news?p=2\",\n",
    "        ]\n",
    "        for index, url in enumerate(urls):\n",
    "            yield Request(url, callback=self.parse_item, metadata={\"index\": index})\n",
    "\n",
    "    async def parse_item(self, response):\n",
    "        async for item in HackerNewsItem.get_items(html=await response.text()):\n",
    "            yield item\n",
    "\n",
    "    async def process_item(self, item):\n",
    "        try:\n",
    "            print(item.title, item.url)\n",
    "        except Exception as e:\n",
    "            self.logger.error(e)"
   ]
  }
 ],
 "metadata": {
  "kernelspec": {
   "display_name": ".venv",
   "language": "python",
   "name": "python3"
  },
  "language_info": {
   "codemirror_mode": {
    "name": "ipython",
    "version": 3
   },
   "file_extension": ".py",
   "mimetype": "text/x-python",
   "name": "python",
   "nbconvert_exporter": "python",
   "pygments_lexer": "ipython3",
   "version": "3.9.5"
  },
  "orig_nbformat": 4
 },
 "nbformat": 4,
 "nbformat_minor": 2
}
